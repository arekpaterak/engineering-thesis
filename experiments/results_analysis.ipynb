{
 "cells": [
  {
   "metadata": {},
   "cell_type": "markdown",
   "source": "# Results Analysis",
   "id": "a715d834d31e5589"
  },
  {
   "metadata": {
    "ExecuteTime": {
     "end_time": "2024-12-23T14:26:10.038503Z",
     "start_time": "2024-12-23T14:26:09.923605Z"
    }
   },
   "cell_type": "code",
   "source": [
    "%load_ext autoreload\n",
    "%autoreload 2"
   ],
   "id": "8388be96ab0b1372",
   "outputs": [
    {
     "name": "stdout",
     "output_type": "stream",
     "text": [
      "The autoreload extension is already loaded. To reload it, use:\n",
      "  %reload_ext autoreload\n"
     ]
    }
   ],
   "execution_count": 5
  },
  {
   "metadata": {},
   "cell_type": "markdown",
   "source": [
    "## Winning Rate\n",
    "The proportion of instances (the winning rate) for which the methods in the rows outperform these in the columns."
   ],
   "id": "46753d44474addf5"
  },
  {
   "metadata": {
    "collapsed": true
   },
   "cell_type": "code",
   "outputs": [],
   "execution_count": null,
   "source": "",
   "id": "initial_id"
  },
  {
   "metadata": {},
   "cell_type": "markdown",
   "source": [
    "## Average Improvement\n",
    "The average improvement over the initial solution through steps of the LNS (or time)."
   ],
   "id": "316fa816d2a26e13"
  },
  {
   "metadata": {},
   "cell_type": "code",
   "outputs": [],
   "execution_count": null,
   "source": "",
   "id": "8d7ce426d4aff924"
  },
  {
   "metadata": {},
   "cell_type": "markdown",
   "source": "## (Optimality) Gap",
   "id": "64dad684d8ec6936"
  },
  {
   "metadata": {},
   "cell_type": "code",
   "outputs": [],
   "execution_count": null,
   "source": "",
   "id": "7b9383db7f5c7948"
  }
 ],
 "metadata": {
  "kernelspec": {
   "display_name": "Python 3",
   "language": "python",
   "name": "python3"
  },
  "language_info": {
   "codemirror_mode": {
    "name": "ipython",
    "version": 2
   },
   "file_extension": ".py",
   "mimetype": "text/x-python",
   "name": "python",
   "nbconvert_exporter": "python",
   "pygments_lexer": "ipython2",
   "version": "2.7.6"
  }
 },
 "nbformat": 4,
 "nbformat_minor": 5
}
