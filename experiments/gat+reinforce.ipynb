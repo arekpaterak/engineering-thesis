{
 "cells": [
  {
   "metadata": {
    "collapsed": true,
    "ExecuteTime": {
     "end_time": "2024-12-09T19:03:43.670446Z",
     "start_time": "2024-12-09T19:03:41.813257Z"
    }
   },
   "cell_type": "code",
   "source": [
    "%load_ext autoreload\n",
    "%autoreload 2\n",
    "\n",
    "# Make MiniZinc work in Jupyter Notebooks\n",
    "import nest_asyncio\n",
    "nest_asyncio.apply()\n",
    "\n",
    "import os.path\n",
    "from copy import deepcopy\n",
    "from typing import Optional\n",
    "\n",
    "import torch\n",
    "print(f\"PyTorch version: {torch.__version__}\")\n",
    "\n",
    "import torch_geometric as pyg\n",
    "from torch_geometric.data import Data\n",
    "\n",
    "from problems.tsp.tsp_env_multibinary import TSPEnvironmentMultiBinary\n",
    "\n",
    "BASE_PATH = os.path.abspath(os.path.join(os.getcwd(), os.pardir))\n",
    "\n",
    "TSP_DATA_DIR = os.path.join(BASE_PATH, \"problems\", \"tsp\", \"data\", \"generated\")\n",
    "\n",
    "TSP_SOLVERS_DIR = os.path.join(BASE_PATH, \"problems\", \"tsp\", \"minizinc\")\n",
    "TSP_INIT_SOLVER_PATH = os.path.join(TSP_SOLVERS_DIR, \"tsp_init.mzn\")\n",
    "TSP_REPAIR_SOLVER_PATH = os.path.join(TSP_SOLVERS_DIR, \"tsp_repair.mzn\")\n",
    "\n",
    "problem_instances_paths = [os.path.join(TSP_DATA_DIR, path) for path in os.listdir(TSP_DATA_DIR) if path.endswith(\".json\")]\n",
    "print(len(problem_instances_paths))"
   ],
   "id": "initial_id",
   "outputs": [
    {
     "name": "stdout",
     "output_type": "stream",
     "text": [
      "The autoreload extension is already loaded. To reload it, use:\n",
      "  %reload_ext autoreload\n",
      "PyTorch version: 2.3.0\n",
      "100\n"
     ]
    }
   ],
   "execution_count": 2
  },
  {
   "metadata": {
    "ExecuteTime": {
     "end_time": "2024-12-09T19:03:45.716279Z",
     "start_time": "2024-12-09T19:03:45.521941Z"
    }
   },
   "cell_type": "code",
   "source": "BASE_PATH",
   "id": "237db58af86bf9c3",
   "outputs": [
    {
     "data": {
      "text/plain": [
       "'D:\\\\Coding\\\\University\\\\S7\\\\engineering-thesis'"
      ]
     },
     "execution_count": 3,
     "metadata": {},
     "output_type": "execute_result"
    }
   ],
   "execution_count": 3
  },
  {
   "metadata": {
    "ExecuteTime": {
     "end_time": "2024-12-02T13:40:11.576444Z",
     "start_time": "2024-12-02T13:40:10.077399Z"
    }
   },
   "cell_type": "code",
   "source": [
    "env = TSPEnvironmentMultiBinary(\n",
    "    problem_instance_path=problem_instances_paths[0],\n",
    "    init_model_path=TSP_INIT_SOLVER_PATH,\n",
    "    repair_model_path=TSP_REPAIR_SOLVER_PATH,\n",
    "    solver_name=\"gecode\",\n",
    "    max_episode_length=50,\n",
    "    action_bounds=0.2\n",
    ")\n",
    "\n",
    "obs, _ = env.reset()\n",
    "print(obs)"
   ],
   "id": "9ea093a2a9646fe9",
   "outputs": [
    {
     "name": "stdout",
     "output_type": "stream",
     "text": [
      "{'problem': {'node_positions': [{'x': 74, 'y': 528}, {'x': 658, 'y': 280}, {'x': 314, 'y': 534}, {'x': 160, 'y': 915}, {'x': 756, 'y': 153}, {'x': 841, 'y': 843}, {'x': 748, 'y': 954}, {'x': 995, 'y': 922}, {'x': 75, 'y': 1}, {'x': 139, 'y': 470}, {'x': 338, 'y': 176}, {'x': 973, 'y': 586}, {'x': 296, 'y': 844}, {'x': 820, 'y': 770}, {'x': 438, 'y': 229}, {'x': 742, 'y': 866}, {'x': 244, 'y': 638}, {'x': 962, 'y': 942}, {'x': 149, 'y': 403}, {'x': 412, 'y': 11}]}, 'solution': {'route': [1, 20, 19, 18, 17, 16, 15, 14, 13, 12, 11, 10, 9, 8, 7, 6, 5, 4, 3, 2]}}\n"
     ]
    }
   ],
   "execution_count": 3
  },
  {
   "metadata": {},
   "cell_type": "markdown",
   "source": "## GAT",
   "id": "903f8ebe615ffe67"
  },
  {
   "metadata": {
    "ExecuteTime": {
     "end_time": "2024-12-02T13:40:19.981161Z",
     "start_time": "2024-12-02T13:40:19.843687Z"
    }
   },
   "cell_type": "code",
   "source": [
    "graph_data = TSPEnvironmentMultiBinary.preprocess(obs) \n",
    "graph_data"
   ],
   "id": "6ca1c4b4106b1386",
   "outputs": [
    {
     "data": {
      "text/plain": [
       "Data(x=[20, 2], edge_index=[2, 40], edge_attr=[40, 1], pos=[20, 2])"
      ]
     },
     "execution_count": 5,
     "metadata": {},
     "output_type": "execute_result"
    }
   ],
   "execution_count": 5
  },
  {
   "metadata": {
    "ExecuteTime": {
     "end_time": "2024-12-02T13:40:29.912666Z",
     "start_time": "2024-12-02T13:40:29.728821Z"
    }
   },
   "cell_type": "code",
   "source": [
    "from general.ml.features_extractor import GraphFeaturesExtractor, SequentialGraphFeaturesExtractor\n",
    "    \n",
    "net = GraphFeaturesExtractor(in_channels=2, num_heads=8, edge_dim=1)\n",
    "print(pyg.nn.summary(net, graph_data.x, graph_data.edge_index, graph_data.edge_attr))\n",
    "print(net(graph_data.x, graph_data.edge_index, graph_data.edge_attr).shape)\n",
    "\n",
    "graph_data1 = deepcopy(graph_data)\n",
    "graph_data1.x = torch.cat([graph_data1.x, torch.tensor([[1, 2]])], dim=0)\n",
    "print(graph_data1)\n",
    "\n",
    "print(pyg.nn.summary(net, graph_data1.x, graph_data1.edge_index, graph_data1.edge_attr))\n",
    "print(net(graph_data1.x, graph_data1.edge_index, graph_data1.edge_attr).shape)"
   ],
   "id": "be6eac8d62d604a4",
   "outputs": [
    {
     "name": "stdout",
     "output_type": "stream",
     "text": [
      "+------------------------+-----------------------------+----------------+----------+\n",
      "| Layer                  | Input Shape                 | Output Shape   | #Param   |\n",
      "|------------------------+-----------------------------+----------------+----------|\n",
      "| GraphFeaturesExtractor | [20, 2], [2, 40], [40, 1]   | [20, 512]      | 201,792  |\n",
      "| ├─(convs)ModuleList    | --                          | --             | 168,512  |\n",
      "| │    └─(0)GATConv      | [20, 2], [2, 40], [40, 1]   | [20, 256]      | 1,792    |\n",
      "| │    └─(1)GATConv      | [20, 256], [2, 40], [40, 1] | [20, 512]      | 133,632  |\n",
      "| │    └─(2)GATConv      | [20, 512], [2, 40], [40, 1] | [20, 64]       | 33,088   |\n",
      "| ├─(fc)Linear           | [20, 64]                    | [20, 512]      | 33,280   |\n",
      "+------------------------+-----------------------------+----------------+----------+\n",
      "torch.Size([20, 512])\n",
      "Data(x=[21, 2], edge_index=[2, 40], edge_attr=[40, 1], pos=[20, 2])\n",
      "+------------------------+-----------------------------+----------------+----------+\n",
      "| Layer                  | Input Shape                 | Output Shape   | #Param   |\n",
      "|------------------------+-----------------------------+----------------+----------|\n",
      "| GraphFeaturesExtractor | [21, 2], [2, 40], [40, 1]   | [21, 512]      | 201,792  |\n",
      "| ├─(convs)ModuleList    | --                          | --             | 168,512  |\n",
      "| │    └─(0)GATConv      | [21, 2], [2, 40], [40, 1]   | [21, 256]      | 1,792    |\n",
      "| │    └─(1)GATConv      | [21, 256], [2, 40], [40, 1] | [21, 512]      | 133,632  |\n",
      "| │    └─(2)GATConv      | [21, 512], [2, 40], [40, 1] | [21, 64]       | 33,088   |\n",
      "| ├─(fc)Linear           | [21, 64]                    | [21, 512]      | 33,280   |\n",
      "+------------------------+-----------------------------+----------------+----------+\n",
      "torch.Size([21, 512])\n"
     ]
    }
   ],
   "execution_count": 7
  },
  {
   "metadata": {},
   "cell_type": "markdown",
   "source": "## REINFORCE",
   "id": "17616226404608b5"
  },
  {
   "metadata": {
    "ExecuteTime": {
     "end_time": "2024-12-02T13:40:32.374037Z",
     "start_time": "2024-12-02T13:40:32.199303Z"
    }
   },
   "cell_type": "code",
   "source": [
    "from general.ml.reinforce import REINFORCE\n",
    "\n",
    "reinforce_hyperparameters = dict(\n",
    "    gamma = 1.0,\n",
    ")\n",
    "optimizer_hyperparameters = dict(\n",
    "    lr = 1e-3,\n",
    ")\n",
    "\n",
    "policy = REINFORCE(**reinforce_hyperparameters, graph_features_extractor_kwargs=dict(in_channels=2, num_heads=8, edge_dim=1))\n",
    "policy.configure_optimizers(\"adam\", **optimizer_hyperparameters)\n",
    "\n",
    "action, log_prob = policy.get_action(graph_data)\n",
    "print(action.shape)\n",
    "print(action)\n",
    "print(torch.exp(log_prob))\n",
    "\n",
    "action, log_prob = policy.get_action(graph_data1)\n",
    "print(action.shape)\n",
    "print(action)\n",
    "print(torch.exp(log_prob))"
   ],
   "id": "ac1c1af5fd9ee3ca",
   "outputs": [
    {
     "name": "stdout",
     "output_type": "stream",
     "text": [
      "torch.Size([20])\n",
      "tensor([1., 1., 1., 1., 1., 1., 1., 1., 1., 1., 1., 1., 1., 1., 1., 1., 1., 1.,\n",
      "        1., 1.])\n",
      "tensor([0.9703, 0.9976, 0.9900, 0.9900, 0.9966, 0.9966, 0.9989, 0.9988, 0.9988,\n",
      "        0.9280, 0.9281, 0.9281, 0.9998, 0.9999, 0.9982, 0.9980, 0.9980, 0.9977,\n",
      "        0.9988, 0.9337], grad_fn=<ExpBackward0>)\n",
      "torch.Size([21])\n",
      "tensor([0., 1., 1., 1., 1., 1., 1., 1., 1., 1., 1., 1., 1., 1., 1., 1., 1., 1.,\n",
      "        1., 1., 1.])\n",
      "tensor([0.0297, 0.9976, 0.9900, 0.9900, 0.9966, 0.9966, 0.9989, 0.9988, 0.9988,\n",
      "        0.9280, 0.9281, 0.9281, 0.9998, 0.9999, 0.9982, 0.9980, 0.9980, 0.9977,\n",
      "        0.9988, 0.9337, 0.4885], grad_fn=<ExpBackward0>)\n"
     ]
    }
   ],
   "execution_count": 8
  },
  {
   "metadata": {},
   "cell_type": "markdown",
   "source": "### Training",
   "id": "54da4d711a330d62"
  },
  {
   "metadata": {
    "ExecuteTime": {
     "end_time": "2024-12-02T14:06:14.734561Z",
     "start_time": "2024-12-02T14:05:27.258520Z"
    }
   },
   "cell_type": "code",
   "source": "policy.learn(env, n_epochs=1, max_t=env.max_episode_length, verbose=True)",
   "id": "b9fc33007edccc18",
   "outputs": [
    {
     "name": "stdout",
     "output_type": "stream",
     "text": [
      "Epoch 1\tLoss: 0.0 Average Score: 0.00\n",
      "{'objective_value': 12420}\n"
     ]
    }
   ],
   "execution_count": 11
  }
 ],
 "metadata": {
  "kernelspec": {
   "display_name": "Python 3",
   "language": "python",
   "name": "python3"
  },
  "language_info": {
   "codemirror_mode": {
    "name": "ipython",
    "version": 2
   },
   "file_extension": ".py",
   "mimetype": "text/x-python",
   "name": "python",
   "nbconvert_exporter": "python",
   "pygments_lexer": "ipython2",
   "version": "2.7.6"
  }
 },
 "nbformat": 4,
 "nbformat_minor": 5
}
